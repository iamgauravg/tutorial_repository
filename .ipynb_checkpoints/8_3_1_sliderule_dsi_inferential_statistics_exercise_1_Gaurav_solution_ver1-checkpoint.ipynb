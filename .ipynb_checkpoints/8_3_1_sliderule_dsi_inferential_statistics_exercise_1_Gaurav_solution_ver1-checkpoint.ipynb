{
 "cells": [
  {
   "cell_type": "markdown",
   "metadata": {},
   "source": [
    "# What is the True Normal Human Body Temperature? \n",
    "\n",
    "#### Background\n",
    "\n",
    "The mean normal body temperature was held to be 37$^{\\circ}$C or 98.6$^{\\circ}$F for more than 120 years since it was first conceptualized and reported by Carl Wunderlich in a famous 1868 book. But, is this value statistically correct?"
   ]
  },
  {
   "cell_type": "markdown",
   "metadata": {},
   "source": [
    "<h3>Exercises</h3>\n",
    "\n",
    "<p>In this exercise, you will analyze a dataset of human body temperatures and employ the concepts of hypothesis testing, confidence intervals, and statistical significance.</p>\n",
    "\n",
    "<p>Answer the following questions <b>in this notebook below and submit to your Github account</b>.</p> \n",
    "\n",
    "<ol>\n",
    "<li>  Is the distribution of body temperatures normal? \n",
    "    <ul>\n",
    "    <li> Although this is not a requirement for the Central Limit Theorem to hold (read the introduction on Wikipedia's page about the CLT carefully: https://en.wikipedia.org/wiki/Central_limit_theorem), it gives us some peace of mind that the population may also be normally distributed if we assume that this sample is representative of the population.\n",
    "    <li> Think about the way you're going to check for the normality of the distribution. Graphical methods are usually used first, but there are also other ways: https://en.wikipedia.org/wiki/Normality_test\n",
    "    </ul>\n",
    "<li>  Is the sample size large? Are the observations independent?\n",
    "    <ul>\n",
    "    <li> Remember that this is a condition for the Central Limit Theorem, and hence the statistical tests we are using, to apply.\n",
    "    </ul>\n",
    "<li>  Is the true population mean really 98.6 degrees F?\n",
    "    <ul>\n",
    "    <li> First, try a bootstrap hypothesis test.\n",
    "    <li> Now, let's try frequentist statistical testing. Would you use a one-sample or two-sample test? Why?\n",
    "    <li> In this situation, is it appropriate to use the $t$ or $z$ statistic? \n",
    "    <li> Now try using the other test. How is the result be different? Why?\n",
    "    </ul>\n",
    "<li>  Draw a small sample of size 10 from the data and repeat both frequentist tests. \n",
    "    <ul>\n",
    "    <li> Which one is the correct one to use? \n",
    "    <li> What do you notice? What does this tell you about the difference in application of the $t$ and $z$ statistic?\n",
    "    </ul>\n",
    "<li>  At what temperature should we consider someone's temperature to be \"abnormal\"?\n",
    "    <ul>\n",
    "    <li> As in the previous example, try calculating everything using the boostrap approach, as well as the frequentist approach.\n",
    "    <li> Start by computing the margin of error and confidence interval. When calculating the confidence interval, keep in mind that you should use the appropriate formula for one draw, and not N draws.\n",
    "    </ul>\n",
    "<li>  Is there a significant difference between males and females in normal temperature?\n",
    "    <ul>\n",
    "    <li> What testing approach did you use and why?\n",
    "    <li> Write a story with your conclusion in the context of the original problem.\n",
    "    </ul>\n",
    "</ol>\n",
    "\n",
    "You can include written notes in notebook cells using Markdown: \n",
    "   - In the control panel at the top, choose Cell > Cell Type > Markdown\n",
    "   - Markdown syntax: http://nestacms.com/docs/creating-content/markdown-cheat-sheet\n",
    "\n",
    "#### Resources\n",
    "\n",
    "+ Information and data sources: http://www.amstat.org/publications/jse/datasets/normtemp.txt, http://www.amstat.org/publications/jse/jse_data_archive.htm\n",
    "+ Markdown syntax: http://nestacms.com/docs/creating-content/markdown-cheat-sheet\n",
    "\n",
    "****"
   ]
  },
  {
   "cell_type": "code",
   "execution_count": 61,
   "metadata": {
    "collapsed": false
   },
   "outputs": [],
   "source": [
    "import pandas as pd\n",
    "import matplotlib.pyplot as plt\n",
    "import numpy as np\n",
    "from scipy import stats\n",
    "%matplotlib inline\n",
    "import time\n"
   ]
  },
  {
   "cell_type": "code",
   "execution_count": 62,
   "metadata": {
    "collapsed": false
   },
   "outputs": [],
   "source": [
    "df = pd.read_csv('1520467485_dsc_human_temp/EDA_human_temperature/data/human_body_temperature.csv')"
   ]
  },
  {
   "cell_type": "code",
   "execution_count": 63,
   "metadata": {
    "collapsed": true
   },
   "outputs": [],
   "source": [
    "# Your work here."
   ]
  },
  {
   "cell_type": "code",
   "execution_count": 64,
   "metadata": {
    "collapsed": false
   },
   "outputs": [
    {
     "data": {
      "text/html": [
       "<div>\n",
       "<table border=\"1\" class=\"dataframe\">\n",
       "  <thead>\n",
       "    <tr style=\"text-align: right;\">\n",
       "      <th></th>\n",
       "      <th>temperature</th>\n",
       "      <th>gender</th>\n",
       "      <th>heart_rate</th>\n",
       "    </tr>\n",
       "  </thead>\n",
       "  <tbody>\n",
       "    <tr>\n",
       "      <th>0</th>\n",
       "      <td>99.3</td>\n",
       "      <td>F</td>\n",
       "      <td>68</td>\n",
       "    </tr>\n",
       "    <tr>\n",
       "      <th>1</th>\n",
       "      <td>98.4</td>\n",
       "      <td>F</td>\n",
       "      <td>81</td>\n",
       "    </tr>\n",
       "    <tr>\n",
       "      <th>2</th>\n",
       "      <td>97.8</td>\n",
       "      <td>M</td>\n",
       "      <td>73</td>\n",
       "    </tr>\n",
       "    <tr>\n",
       "      <th>3</th>\n",
       "      <td>99.2</td>\n",
       "      <td>F</td>\n",
       "      <td>66</td>\n",
       "    </tr>\n",
       "    <tr>\n",
       "      <th>4</th>\n",
       "      <td>98.0</td>\n",
       "      <td>F</td>\n",
       "      <td>73</td>\n",
       "    </tr>\n",
       "  </tbody>\n",
       "</table>\n",
       "</div>"
      ],
      "text/plain": [
       "   temperature gender  heart_rate\n",
       "0         99.3      F          68\n",
       "1         98.4      F          81\n",
       "2         97.8      M          73\n",
       "3         99.2      F          66\n",
       "4         98.0      F          73"
      ]
     },
     "execution_count": 64,
     "metadata": {},
     "output_type": "execute_result"
    }
   ],
   "source": [
    "df.head()"
   ]
  },
  {
   "cell_type": "code",
   "execution_count": 65,
   "metadata": {
    "collapsed": false
   },
   "outputs": [
    {
     "name": "stdout",
     "output_type": "stream",
     "text": [
      "<class 'pandas.core.frame.DataFrame'>\n",
      "Int64Index: 130 entries, 0 to 129\n",
      "Data columns (total 3 columns):\n",
      "temperature    130 non-null float64\n",
      "gender         130 non-null object\n",
      "heart_rate     130 non-null float64\n",
      "dtypes: float64(2), object(1)\n",
      "memory usage: 4.1+ KB\n"
     ]
    }
   ],
   "source": [
    "df.info()"
   ]
  },
  {
   "cell_type": "code",
   "execution_count": 66,
   "metadata": {
    "collapsed": false
   },
   "outputs": [
    {
     "data": {
      "text/html": [
       "<div>\n",
       "<table border=\"1\" class=\"dataframe\">\n",
       "  <thead>\n",
       "    <tr style=\"text-align: right;\">\n",
       "      <th></th>\n",
       "      <th>temperature</th>\n",
       "      <th>heart_rate</th>\n",
       "    </tr>\n",
       "  </thead>\n",
       "  <tbody>\n",
       "    <tr>\n",
       "      <th>count</th>\n",
       "      <td>130.000000</td>\n",
       "      <td>130.000000</td>\n",
       "    </tr>\n",
       "    <tr>\n",
       "      <th>mean</th>\n",
       "      <td>98.249231</td>\n",
       "      <td>73.761538</td>\n",
       "    </tr>\n",
       "    <tr>\n",
       "      <th>std</th>\n",
       "      <td>0.733183</td>\n",
       "      <td>7.062077</td>\n",
       "    </tr>\n",
       "    <tr>\n",
       "      <th>min</th>\n",
       "      <td>96.300000</td>\n",
       "      <td>57.000000</td>\n",
       "    </tr>\n",
       "    <tr>\n",
       "      <th>25%</th>\n",
       "      <td>97.800000</td>\n",
       "      <td>69.000000</td>\n",
       "    </tr>\n",
       "    <tr>\n",
       "      <th>50%</th>\n",
       "      <td>98.300000</td>\n",
       "      <td>74.000000</td>\n",
       "    </tr>\n",
       "    <tr>\n",
       "      <th>75%</th>\n",
       "      <td>98.700000</td>\n",
       "      <td>79.000000</td>\n",
       "    </tr>\n",
       "    <tr>\n",
       "      <th>max</th>\n",
       "      <td>100.800000</td>\n",
       "      <td>89.000000</td>\n",
       "    </tr>\n",
       "  </tbody>\n",
       "</table>\n",
       "</div>"
      ],
      "text/plain": [
       "       temperature  heart_rate\n",
       "count   130.000000  130.000000\n",
       "mean     98.249231   73.761538\n",
       "std       0.733183    7.062077\n",
       "min      96.300000   57.000000\n",
       "25%      97.800000   69.000000\n",
       "50%      98.300000   74.000000\n",
       "75%      98.700000   79.000000\n",
       "max     100.800000   89.000000"
      ]
     },
     "execution_count": 66,
     "metadata": {},
     "output_type": "execute_result"
    }
   ],
   "source": [
    "describe_stats = df.describe()\n",
    "describe_stats"
   ]
  },
  {
   "cell_type": "markdown",
   "metadata": {},
   "source": [
    "# Question 1\n",
    "Is the distribution of body temperatures normal? \n",
    "\n",
    "* Although this is not a requirement for the Central Limit Theorem to hold (read the introduction on Wikipedia's page about the CLT carefully: https://en.wikipedia.org/wiki/Central_limit_theorem), it gives us some peace of mind that the population may also be normally distributed if we assume that this sample is representative of the population. \n",
    "* Think about the way you're going to check for the normality of the distribution. Graphical methods are usually used first, but there are also other ways: https://en.wikipedia.org/wiki/Normality_test "
   ]
  },
  {
   "cell_type": "code",
   "execution_count": 67,
   "metadata": {
    "collapsed": false
   },
   "outputs": [
    {
     "data": {
      "image/png": "[encoded data removed]",
      "text/plain": [
       "<matplotlib.figure.Figure at 0xdc11358>"
      ]
     },
     "metadata": {},
     "output_type": "display_data"
    }
   ],
   "source": [
    "mean_temperature = describe_stats.loc['mean','temperature']\n",
    "std_temperature = describe_stats.loc['std','temperature']\n",
    "\n",
    "normal_random_samples = np.random.normal(loc=mean_temperature, scale=std_temperature, size=10000)\n",
    "\n",
    "_ = plt.hist(normal_random_samples, normed=True, cumulative=True, bins=100, histtype='step')\n",
    "\n",
    "empirical_data = df.temperature.values\n",
    "_ = plt.hist(empirical_data, cumulative=True, normed=True, bins=100, histtype='step')\n",
    "plt.show()"
   ]
  },
  {
   "cell_type": "markdown",
   "metadata": {},
   "source": [
    "<font color='blue'> As shown by the CDF, the temperature very closely approximates a normal distribution. \n",
    "<br>\n",
    "We can also look at histogram or do a  normalty test using stats.mstats.normaltest.\n",
    "</font> "
   ]
  },
  {
   "cell_type": "markdown",
   "metadata": {
    "collapsed": true
   },
   "source": [
    "# Question 2\n",
    "\n",
    "Is the sample size large? Are the observations independent? \n",
    "* Remember that this is a condition for the Central Limit Theorem, and hence the statistical tests we are using, to apply. \n",
    "\n",
    "\n",
    "<font color='blue'>\n",
    "The sample size is n=130 > 30 typically required for meeting the large sample size condition.\n",
    "\n",
    "The temperature is obtained for n=130 << 10% of the total population of people. Therefore, the observations can be considered independent.\n",
    " </font>"
   ]
  },
  {
   "cell_type": "markdown",
   "metadata": {},
   "source": [
    "# Question 3"
   ]
  },
  {
   "cell_type": "markdown",
   "metadata": {},
   "source": [
    "<ol>\n",
    "<li>  Is the true population mean really 98.6 degrees F?\n",
    "    <ul>\n",
    "    <li> First, try a bootstrap hypothesis test.\n",
    "    <li> Now, let's try frequentist statistical testing. Would you use a one-sample or two-sample test? Why?\n",
    "    <li> In this situation, is it appropriate to use the $t$ or $z$ statistic? \n",
    "    <li> Now try using the other test. How is the result be different? Why?\n",
    "    </ul>\n",
    "    \n",
    "</ol>"
   ]
  },
  {
   "cell_type": "markdown",
   "metadata": {},
   "source": [
    "### Bootstrap approach"
   ]
  },
  {
   "cell_type": "code",
   "execution_count": 68,
   "metadata": {
    "collapsed": true
   },
   "outputs": [],
   "source": [
    "def bootstrap_replicate_1d(data, func):\n",
    "    return func(np.random.choice(data, size=len(data)))"
   ]
  },
  {
   "cell_type": "code",
   "execution_count": 69,
   "metadata": {
    "collapsed": true
   },
   "outputs": [],
   "source": [
    "def draw_bs_reps(data, func, size=1):\n",
    "    \"\"\"Draw bootstrap replicates.\"\"\"\n",
    "\n",
    "    # Initialize array of replicates: bs_replicates\n",
    "    bs_replicates = np.empty(size)\n",
    "\n",
    "    # Generate replicates\n",
    "    for i in range(size):\n",
    "        bs_replicates[i] = bootstrap_replicate_1d(data,func)\n",
    "\n",
    "    return bs_replicates\n"
   ]
  },
  {
   "cell_type": "markdown",
   "metadata": {},
   "source": [
    "<font color='blue'> \n",
    "H0: The mean temperature is 98.6\n",
    "<br>\n",
    "Ha: The mean temperature is not 98.6\n",
    "<br>\n",
    "Set alpha = 0.05\n",
    "<br>\n",
    "Assuming that the null hypothesis is true\n",
    "</font>"
   ]
  },
  {
   "cell_type": "code",
   "execution_count": 70,
   "metadata": {
    "collapsed": false
   },
   "outputs": [
    {
     "name": "stdout",
     "output_type": "stream",
     "text": [
      "My program took 0.218999862671 to run\n"
     ]
    }
   ],
   "source": [
    "start_time = time.time()\n",
    "\n",
    "shifted_empirical_data = empirical_data - mean_temperature + 98.6\n",
    "temp_bs_replicates = draw_bs_reps(shifted_empirical_data, np.mean, size = 10000)\n",
    "\n",
    "p = np.sum(temp_bs_replicates <= mean_temperature)/ float(len(temp_bs_replicates))\n",
    "\n",
    "print \"My program took\", time.time() - start_time, \"to run\""
   ]
  },
  {
   "cell_type": "code",
   "execution_count": 71,
   "metadata": {
    "collapsed": false
   },
   "outputs": [
    {
     "name": "stdout",
     "output_type": "stream",
     "text": [
      "p value: 0.000000000000 \n"
     ]
    }
   ],
   "source": [
    "print \"p value: %1.12f \" %p"
   ]
  },
  {
   "cell_type": "code",
   "execution_count": 72,
   "metadata": {
    "collapsed": false,
    "scrolled": true
   },
   "outputs": [
    {
     "data": {
      "image/png": "[encoded data removed]",
      "text/plain": [
       "<matplotlib.figure.Figure at 0xdcec9e8>"
      ]
     },
     "metadata": {},
     "output_type": "display_data"
    }
   ],
   "source": [
    "minimum_temperature = min(temp_bs_replicates)\n",
    "mean_temperature\n",
    "\n",
    "plt.hist(temp_bs_replicates)\n",
    "plt.show()"
   ]
  },
  {
   "cell_type": "code",
   "execution_count": 73,
   "metadata": {
    "collapsed": false
   },
   "outputs": [
    {
     "name": "stdout",
     "output_type": "stream",
     "text": [
      "98.3253846154\n",
      "98.2492307692\n",
      "0\n",
      "98.9507692308\n",
      "98.8692307692\n",
      "0\n"
     ]
    }
   ],
   "source": [
    "print(minimum_temperature)\n",
    "print(mean_temperature)\n",
    "print(np.sum(temp_bs_replicates <= mean_temperature))\n",
    "high_limit = 98.6 - mean_temperature+98.6\n",
    "print(high_limit)\n",
    "print(max(temp_bs_replicates))\n",
    "\n",
    "print(np.sum(temp_bs_replicates >= high_limit))"
   ]
  },
  {
   "cell_type": "markdown",
   "metadata": {},
   "source": [
    "### Frequentist approach\n",
    "\n",
    "<font color='blue'> \n",
    "We will use a one-sample test because there is only one population. \n",
    "\n",
    "Usually t-statistic is better when the sample standard deviation is used to estimate population standard deviation. t-statistic has fatter probability tails. However, in this case, the data is normally distributed. Therefore, z-statistic is appropriate because the probability will be normally distributed. We can see below that the p-value from the z-statistic better matches the p-value from the bootstrapping approach.\n",
    "\n",
    "Since p value < alpha, we reject the null hypothesis. The true temperature is not 98.6 C\n",
    "\n",
    "</font>"
   ]
  },
  {
   "cell_type": "code",
   "execution_count": 74,
   "metadata": {
    "collapsed": true
   },
   "outputs": [],
   "source": [
    "std_sampling_distribution = std_temperature/np.sqrt(len(empirical_data))\n",
    "\n",
    "t_statistic = (98.6 - mean_temperature)/std_sampling_distribution\n",
    "\n",
    "degrees_of_freedom = len(empirical_data) -1\n"
   ]
  },
  {
   "cell_type": "code",
   "execution_count": 75,
   "metadata": {
    "collapsed": false
   },
   "outputs": [
    {
     "name": "stdout",
     "output_type": "stream",
     "text": [
      "('degrees_of_freedom: ', 129)\n",
      "('std_sampling_distribution', 0.064304416837891024)\n",
      "('std_temperature', 0.73318315803894563)\n"
     ]
    }
   ],
   "source": [
    "print(\"degrees_of_freedom: \", degrees_of_freedom)\n",
    "print(\"std_sampling_distribution\", std_sampling_distribution)\n",
    "print(\"std_temperature\", std_temperature)"
   ]
  },
  {
   "cell_type": "code",
   "execution_count": 76,
   "metadata": {
    "collapsed": false
   },
   "outputs": [
    {
     "name": "stdout",
     "output_type": "stream",
     "text": [
      "t-statistic =  5.455,  pvalue = 0.000000241\n",
      "z-statistic =  5.455,  pvalue = 0.000000049\n"
     ]
    }
   ],
   "source": [
    "p_value_t_statistic = stats.t.sf(np.abs(t_statistic), degrees_of_freedom)*2  # two-sided pvalue = Prob(abs(t)>tt)\n",
    "print 't-statistic = %6.3f,  pvalue = %6.9f' % (t_statistic, p_value_t_statistic)\n",
    "\n",
    "# calculate z-statistic and corresponding p-value\n",
    "z_statistic = np.abs(98.6 - mean_temperature)/std_sampling_distribution\n",
    "\n",
    "p_value_z_statistic = 2*stats.norm.sf(z_statistic)\n",
    "print 'z-statistic = %6.3f,  pvalue = %6.9f' % (z_statistic, p_value_z_statistic)"
   ]
  },
  {
   "cell_type": "markdown",
   "metadata": {},
   "source": [
    "# Question 4\n",
    "\n",
    "Draw a small sample of size 10 from the data and repeat both frequentist tests. \n",
    "* Which one is the correct one to use? \n",
    "* What do you notice? What does this tell you about the difference in application of the \n",
    "t\n",
    "and \n",
    "z\n",
    "statistic? "
   ]
  },
  {
   "cell_type": "code",
   "execution_count": 77,
   "metadata": {
    "collapsed": false
   },
   "outputs": [
    {
     "name": "stdout",
     "output_type": "stream",
     "text": [
      "('mean of the small sample: ', 98.189999999999998)\n",
      "('standard deviation of the small sample: ', 1.1361778029868383)\n",
      "('size of the small sample: ', 10)\n"
     ]
    }
   ],
   "source": [
    "# draw a small sample and calculate mean and standard deviation\n",
    "small_sample = np.random.choice(empirical_data, size=10)\n",
    "\n",
    "mean_small_sample = np.mean(small_sample)\n",
    "print(\"mean of the small sample: \", mean_small_sample)\n",
    "\n",
    "std_small_sample = np.std(small_sample)\n",
    "print(\"standard deviation of the small sample: \", std_small_sample)\n",
    "\n",
    "n = len(small_sample)\n",
    "print(\"size of the small sample: \", n)"
   ]
  },
  {
   "cell_type": "code",
   "execution_count": 78,
   "metadata": {
    "collapsed": false
   },
   "outputs": [
    {
     "name": "stdout",
     "output_type": "stream",
     "text": [
      "t-statistic =  1.141,  pvalue = 0.283266523\n",
      "z-statistic =  1.141,  pvalue = 0.253813168\n"
     ]
    }
   ],
   "source": [
    "# standard deviation of the mean of sampling distribution\n",
    "std_sampling_distribution = std_small_sample/np.sqrt(len(small_sample))\n",
    "\n",
    "# calculate t-statistic and corresponding p-value\n",
    "t_statistic = np.abs(98.6 - mean_small_sample)/std_sampling_distribution\n",
    "degrees_of_freedom = n - 1\n",
    "\n",
    "p_value_t_statistic = stats.t.sf(np.abs(t_statistic), degrees_of_freedom)*2  # two-sided pvalue = Prob(abs(t)>tt)\n",
    "print 't-statistic = %6.3f,  pvalue = %6.9f' % (t_statistic, p_value_t_statistic)\n",
    "\n",
    "# calculate z-statistic and corresponding p-value\n",
    "z_statistic = np.abs(98.6 - mean_small_sample)/std_sampling_distribution\n",
    "\n",
    "p_value_z_statistic = 2*stats.norm.sf(z_statistic)\n",
    "print 'z-statistic = %6.3f,  pvalue = %6.9f' % (z_statistic, p_value_z_statistic)"
   ]
  },
  {
   "cell_type": "markdown",
   "metadata": {},
   "source": [
    "<font color='blue'> \n",
    "\n",
    "t-statistic has fatter probability tail than that of z-statistic. For example, from two diffreent runs of the code above:\n",
    "\n",
    "</font>\n",
    "\n",
    "statistic | 0.045 | 3.150\n",
    "----------|-------|-------------------------------\n",
    "p-value for t-statistic| 0.965057156 | 0.011743144\n",
    "p-value for z-statistic|0.964073590 | 0.001634360\n",
    "\n",
    "<font color='blue'> \n",
    "\n",
    "If the true population standard deviation is unknown, sample size is small and the probability of occurance is small (i.e. t or z statistic large), then its better to use t-stastic as it will be conservative.\n",
    "\n",
    "</font>"
   ]
  },
  {
   "cell_type": "markdown",
   "metadata": {},
   "source": [
    "\n",
    "# Question 5\n",
    "\n",
    "At what temperature should we consider someone's temperature to be \"abnormal\"? \n",
    "* As in the previous example, try calculating everything using the boostrap approach, as well as the frequentist approach. \n",
    "* Start by computing the margin of error and confidence interval. When calculating the confidence interval, keep in mind that you should use the appropriate formula for one draw, and not N draws. "
   ]
  },
  {
   "cell_type": "markdown",
   "metadata": {},
   "source": [
    "<font color='blue'> \n",
    "Lets assume that we are looking for a 95% confidence interval\n",
    "</font>\n",
    "\n",
    "### Frequentist approach"
   ]
  },
  {
   "cell_type": "code",
   "execution_count": 79,
   "metadata": {
    "collapsed": false
   },
   "outputs": [
    {
     "name": "stdout",
     "output_type": "stream",
     "text": [
      "margin of error: 1.437013\n",
      "confidence interval: \n",
      "[96.812218185403083, 99.686243353058416]\n"
     ]
    }
   ],
   "source": [
    "z_statistic_95CI = stats.norm.ppf(0.975)\n",
    "margin_of_error = z_statistic_95CI * std_temperature\n",
    "print \"margin of error: %f\" % (margin_of_error)\n",
    "\n",
    "confidence_interval = [mean_temperature - margin_of_error, mean_temperature + margin_of_error]\n",
    "\n",
    "print \"confidence interval: \" \n",
    "print confidence_interval"
   ]
  },
  {
   "cell_type": "markdown",
   "metadata": {},
   "source": [
    "### Bootstrapping approach"
   ]
  },
  {
   "cell_type": "code",
   "execution_count": 80,
   "metadata": {
    "collapsed": false
   },
   "outputs": [
    {
     "data": {
      "text/plain": [
       "array([ 96.7,  99.5])"
      ]
     },
     "execution_count": 80,
     "metadata": {},
     "output_type": "execute_result"
    }
   ],
   "source": [
    "temp_bs_replicates_95CI = np.random.choice(empirical_data, size=100000)\n",
    "\n",
    "np.percentile(temp_bs_replicates_95CI, [2.5, 97.5])"
   ]
  },
  {
   "cell_type": "markdown",
   "metadata": {},
   "source": [
    "# Question 6\n",
    "\n",
    "Is there a significant difference between males and females in normal temperature? \n",
    "* What testing approach did you use and why? \n",
    "* Write a story with your conclusion in the context of the original problem. "
   ]
  },
  {
   "cell_type": "markdown",
   "metadata": {},
   "source": [
    "<font color='blue'> \n",
    "Lets define\n",
    "<br>\n",
    "uF: mean temperature of females\n",
    "<br>\n",
    "uM: mean temperature of males\n",
    "<br>\n",
    "H0: uM = uF\n",
    "<br>\n",
    "Ha: uM is not equal to uF\n",
    "<br>\n",
    "Set alpha = 0.05\n",
    "</font>"
   ]
  },
  {
   "cell_type": "code",
   "execution_count": 81,
   "metadata": {
    "collapsed": true
   },
   "outputs": [],
   "source": [
    "# separate the population into male and female\n",
    "empirical_data_male = df[df.gender == 'M'].temperature.values\n",
    "empirical_data_female = df[df.gender == 'F'].temperature.values"
   ]
  },
  {
   "cell_type": "code",
   "execution_count": 82,
   "metadata": {
    "collapsed": false
   },
   "outputs": [
    {
     "data": {
      "text/plain": [
       "array([ 97.8,  99.2,  98. ,  98.8,  98.2,  98.2,  99.4,  98.2,  98.6,\n",
       "        98.4,  97.8,  98.1,  98.3,  98.5,  98.6,  99.3,  99.5,  99.1,\n",
       "        98.3,  98.4,  96.9,  97.2,  97.4,  97.4,  97.9,  97.1,  98.6,\n",
       "        98.2,  97.6,  98.4,  98.6,  97.4,  98.6,  98.9,  98. ,  98.8,\n",
       "        99. ,  98.8,  98.4,  97.4,  97.6,  98. ,  97.5,  97.1,  98. ,\n",
       "        98.7,  98.1,  97.8,  97.1,  97.8,  98. ,  99. ,  98.5,  97.6,\n",
       "        96.7,  97. ,  98.6,  97.3,  99. ,  98. ,  98.7,  97.5,  96.3,\n",
       "        97.7,  97.9])"
      ]
     },
     "execution_count": 82,
     "metadata": {},
     "output_type": "execute_result"
    }
   ],
   "source": [
    "# look at the data\n",
    "empirical_data_male"
   ]
  },
  {
   "cell_type": "code",
   "execution_count": 83,
   "metadata": {
    "collapsed": false
   },
   "outputs": [
    {
     "data": {
      "text/plain": [
       "array([  99.3,   98.4,   99.2,   98. ,   98.4,   98.6,   98.8,   96.7,\n",
       "         98.7,   97.8,   98.8,   98.3,   97.2,   98.3,   98. ,   97.8,\n",
       "         98.2,   98.4,   97.6,   97.9,   96.4,   98.4,   99. ,   97.9,\n",
       "         98.9,   98.3,   98.5,   98.2,   98.6,   98.8,   98.2,   99.1,\n",
       "         98.2,   98.7,   97.4,   98.7,   98.1,   97.7,   98. ,   98.8,\n",
       "         99.2,   98.6,   98.6,  100. ,   98.8,   96.8,   99.9,   98.7,\n",
       "         98.8,   98. ,   99.4,   98.7,   98.8,   98. ,   98.2,   99.1,\n",
       "        100.8,   97.8,   98.4,   97.7,   97.9,   99. ,   97.2,   98.2,\n",
       "         98.7])"
      ]
     },
     "execution_count": 83,
     "metadata": {},
     "output_type": "execute_result"
    }
   ],
   "source": [
    "empirical_data_female"
   ]
  },
  {
   "cell_type": "code",
   "execution_count": 84,
   "metadata": {
    "collapsed": true
   },
   "outputs": [],
   "source": [
    "def diff_of_means(data_male, data_female):\n",
    "    \"\"\" Calculate difference of means of two populations\"\"\"\n",
    "    return np.mean(data_male) - np.mean(data_female)"
   ]
  },
  {
   "cell_type": "code",
   "execution_count": 85,
   "metadata": {
    "collapsed": false
   },
   "outputs": [
    {
     "name": "stdout",
     "output_type": "stream",
     "text": [
      "0.289230769231\n"
     ]
    }
   ],
   "source": [
    "empirical_difference_males_females = np.abs(diff_of_means(empirical_data_male, empirical_data_female))\n",
    "print empirical_difference_males_females"
   ]
  },
  {
   "cell_type": "markdown",
   "metadata": {},
   "source": [
    "<font color='blue'> Assuming null hypothesis is true, shift the means </font>"
   ]
  },
  {
   "cell_type": "code",
   "execution_count": 86,
   "metadata": {
    "collapsed": true
   },
   "outputs": [],
   "source": [
    "shifted_empirical_data_male = empirical_data_male - np.mean(empirical_data_male) + mean_temperature\n",
    "shifted_empirical_data_female = empirical_data_female - np.mean(empirical_data_female) + mean_temperature"
   ]
  },
  {
   "cell_type": "code",
   "execution_count": 87,
   "metadata": {
    "collapsed": false
   },
   "outputs": [
    {
     "name": "stdout",
     "output_type": "stream",
     "text": [
      "0.0244\n"
     ]
    }
   ],
   "source": [
    "# draw boostrap replicates\n",
    "temp_bs_replicates_male = draw_bs_reps(shifted_empirical_data_male, np.mean, size=10000)\n",
    "temp_bs_replicates_female = draw_bs_reps(shifted_empirical_data_female, np.mean, size=10000)\n",
    "diff_of_means_bs_replicates = temp_bs_replicates_male - temp_bs_replicates_female\n",
    "\n",
    "# compute p-value\n",
    "p_value = np.sum((np.abs(diff_of_means_bs_replicates) >= empirical_difference_males_females))/float(len(diff_of_means_bs_replicates))\n",
    "print p_value"
   ]
  },
  {
   "cell_type": "markdown",
   "metadata": {
    "collapsed": false
   },
   "source": [
    "<font color='blue'>\n",
    "We can see that p-value is less than alpha but not extremely low as we saw in question 3.\n",
    "We can reject the null hypothesis (that there is no temperature difference between male and females)  but not with the same statistical significance as we did in question 3. \n",
    "In other words, it means that the probability of type 1 error is not very small.\n",
    "</font>"
   ]
  }
 ],
 "metadata": {
  "kernelspec": {
   "display_name": "Python 2",
   "language": "python",
   "name": "python2"
  },
  "language_info": {
   "codemirror_mode": {
    "name": "ipython",
    "version": 2
   },
   "file_extension": ".py",
   "mimetype": "text/x-python",
   "name": "python",
   "nbconvert_exporter": "python",
   "pygments_lexer": "ipython2",
   "version": "2.7.11"
  }
 },
 "nbformat": 4,
 "nbformat_minor": 1
}
