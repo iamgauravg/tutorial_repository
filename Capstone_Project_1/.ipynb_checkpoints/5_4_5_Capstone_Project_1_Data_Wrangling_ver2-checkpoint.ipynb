{
 "cells": [
  {
   "cell_type": "markdown",
   "metadata": {},
   "source": [
    "## Import the relevant packages"
   ]
  },
  {
   "cell_type": "code",
   "execution_count": null,
   "metadata": {},
   "outputs": [],
   "source": [
    "import pandas as pd\n",
    "import matplotlib.pyplot as plt\n",
    "import seaborn as sns\n",
    "%matplotlib inline\n",
    "import numpy as np"
   ]
  },
  {
   "cell_type": "code",
   "execution_count": null,
   "metadata": {},
   "outputs": [],
   "source": [
    "# Read the CSV into a dataframe\n",
    "\n",
    "header_names = ['sample_code_number', 'clump_thickness', 'uniformity_cell_size', 'uniformity_cell_shape', 'marginal_adhesion', 'cell_size', 'bare_nuclei', 'bland_chromatin', 'normal_nucleoli', 'mitosis', 'class']\n",
    "data_df = pd.read_csv('breast-cancer-wisconsin - Copy.csv', header = None, names = header_names)\n"
   ]
  },
  {
   "cell_type": "code",
   "execution_count": null,
   "metadata": {},
   "outputs": [],
   "source": [
    "# Explore the dataframe\n",
    "\n",
    "data_df.info()\n",
    "data_df.head()"
   ]
  },
  {
   "cell_type": "markdown",
   "metadata": {},
   "source": [
    "We notice above that bare_nuclei is stored as an object instead of expected integer value. Lets determine what unexpected values are preventing integer values to be stored as object."
   ]
  },
  {
   "cell_type": "code",
   "execution_count": null,
   "metadata": {},
   "outputs": [],
   "source": [
    "# Looking back at lecture, it is also possible to use regular expression to determine which entries are integers. Give this a try later.\n",
    "indices_with_unexpected_values_in_bare_nuclei = ~data_df.bare_nuclei.isin(['1','2','3','4','5','6','7','8','9','10'])\n",
    "\n",
    "rows_with_unexpected_values_in_bare_nuclei = data_df[~data_df.bare_nuclei.isin(['1','2','3','4','5','6','7','8','9','10'])]\n",
    "print(rows_with_unexpected_values_in_bare_nuclei.bare_nuclei)\n",
    "print(\"{} values are stored as '?'\".format(len(rows_with_unexpected_values_in_bare_nuclei.bare_nuclei)) )"
   ]
  },
  {
   "cell_type": "markdown",
   "metadata": {},
   "source": [
    "We observe that 16 records of bare_nuclei are stored as '?' but we do not expect these records to be missing. The missing values in the bare_nuclei_column are a small percentage of the benign and malignant tumors. Therefore, we can drop these records without significant impact to the solution of our classification problem."
   ]
  },
  {
   "cell_type": "code",
   "execution_count": null,
   "metadata": {},
   "outputs": [],
   "source": [
    "print(rows_with_unexpected_values_in_bare_nuclei[['bare_nuclei', 'class']])\n",
    "missing_by_tumor_class = rows_with_unexpected_values_in_bare_nuclei[['bare_nuclei', 'class']].groupby('class').count()\n",
    "print(missing_by_tumor_class)\n",
    "\n",
    "percentage_missing_in_benign = 100*missing_by_tumor_class.loc[2,'bare_nuclei']/population_by_tumor_class[2]\n",
    "percentage_missing_in_malignant = 100*missing_by_tumor_class.loc[4,'bare_nuclei']/population_by_tumor_class[4]\n",
    "\n",
    "print(\"Percentage of missing bare_nuclei in benign tumors: {0:2.2f}%\".format( percentage_missing_in_benign))\n",
    "print(\"Percentage of missing bare_nuclei in malignant tumors: {0:2.2f}%\".format( percentage_missing_in_malignant))\n",
    "# Class: (2 for benign, 4 for malignant)\n"
   ]
  },
  {
   "cell_type": "markdown",
   "metadata": {},
   "source": [
    "Drop the missing data and change the type of bare_nuclei to int. Also, change the class of tumor to category type"
   ]
  },
  {
   "cell_type": "code",
   "execution_count": null,
   "metadata": {},
   "outputs": [],
   "source": [
    "data_df = data_df[~indices_with_unexpected_values_in_bare_nuclei]\n",
    "\n",
    "data_df.bare_nuclei = data_df.bare_nuclei.astype('int64')\n",
    "data_df.info()"
   ]
  },
  {
   "cell_type": "code",
   "execution_count": null,
   "metadata": {},
   "outputs": [],
   "source": []
  },
  {
   "cell_type": "markdown",
   "metadata": {},
   "source": [
    "Look for outliers"
   ]
  },
  {
   "cell_type": "code",
   "execution_count": null,
   "metadata": {},
   "outputs": [],
   "source": [
    "print(data_df.describe())\n",
    "data_df.boxplot([ 'clump_thickness', 'uniformity_cell_size', 'uniformity_cell_shape', 'marginal_adhesion', 'cell_size', 'bare_nuclei', 'bland_chromatin', 'normal_nucleoli', 'mitosis', 'class'])\n",
    "plt.xticks(rotation = 60)"
   ]
  },
  {
   "cell_type": "markdown",
   "metadata": {},
   "source": [
    "It can be seen that most of the attributes have reasonable spread. Interestingly, the median value is closer to the lower end of the range for all the attributes. \n",
    "\n",
    "Only mitosis attribute appears to have a large number of outliers. In fact, its inter quartile range (IQR) is limited to the value 1. After looking into the original data description, this attribute is determined by classifying how infrequently cell mitosis is occuring on a scale of 1 to 10. At this point there is no reason to think that these outliers are invalid."
   ]
  },
  {
   "cell_type": "code",
   "execution_count": null,
   "metadata": {},
   "outputs": [],
   "source": [
    "data_df.mitosis.plot(kind='hist')"
   ]
  },
  {
   "cell_type": "code",
   "execution_count": null,
   "metadata": {},
   "outputs": [],
   "source": []
  },
  {
   "cell_type": "code",
   "execution_count": null,
   "metadata": {
    "scrolled": false
   },
   "outputs": [],
   "source": [
    "\n",
    "data_df.plot(subplots=True,figsize = (16,16), kind = 'bar')\n",
    "plt.savefig('data_plot.jpg')\n",
    "plt.show()\n"
   ]
  },
  {
   "cell_type": "code",
   "execution_count": null,
   "metadata": {},
   "outputs": [],
   "source": [
    "data_df.plot(subplots=True,figsize = (16,16), kind = 'bar')\n",
    "plt.show()"
   ]
  },
  {
   "cell_type": "code",
   "execution_count": null,
   "metadata": {},
   "outputs": [],
   "source": []
  }
 ],
 "metadata": {
  "kernelspec": {
   "display_name": "Python 3",
   "language": "python",
   "name": "python3"
  },
  "language_info": {
   "codemirror_mode": {
    "name": "ipython",
    "version": 3
   },
   "file_extension": ".py",
   "mimetype": "text/x-python",
   "name": "python",
   "nbconvert_exporter": "python",
   "pygments_lexer": "ipython3",
   "version": "3.6.5"
  }
 },
 "nbformat": 4,
 "nbformat_minor": 2
}
