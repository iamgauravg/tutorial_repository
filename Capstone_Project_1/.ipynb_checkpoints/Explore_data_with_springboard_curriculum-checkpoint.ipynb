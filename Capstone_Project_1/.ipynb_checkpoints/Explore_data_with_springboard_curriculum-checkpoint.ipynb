{
 "cells": [
  {
   "cell_type": "code",
   "execution_count": 12,
   "metadata": {},
   "outputs": [
    {
     "data": {
      "text/plain": [
       "[('1000025', {'clump_thickness': '5', 'Uniformity_cell_size': '1'}),\n",
       " ('1002945', {'clump_thickness': '5', 'Uniformity_cell_size': '4'}),\n",
       " ('1015425', {'clump_thickness': '3', 'Uniformity_cell_size': '1'}),\n",
       " ('1016277', {'clump_thickness': '6', 'Uniformity_cell_size': '8'}),\n",
       " ('1017023', {'clump_thickness': '6', 'Uniformity_cell_size': '3'})]"
      ]
     },
     "execution_count": 12,
     "metadata": {},
     "output_type": "execute_result"
    }
   ],
   "source": [
    "import csv\n",
    "\n",
    "csvfile = open('breast-cancer-wisconsin - Copy.csv','r')\n",
    "\n",
    "\n",
    "all_data_dictionary = {}\n",
    "for row in csv.reader(csvfile):\n",
    "    #print(row)\n",
    "    all_data_dictionary[row[0]] =  {'clump_thickness': row[1],\n",
    "                                   'Uniformity_cell_size': row[2]\n",
    "                                   }\n",
    "    \n",
    "    \n",
    "list(all_data_dictionary.items())[:5]"
   ]
  },
  {
   "cell_type": "code",
   "execution_count": 6,
   "metadata": {},
   "outputs": [
    {
     "data": {
      "text/plain": [
       "['897471', '4', '8', '8', '5', '4', '5', '10', '4', '1', '4']"
      ]
     },
     "execution_count": 6,
     "metadata": {},
     "output_type": "execute_result"
    }
   ],
   "source": [
    "row"
   ]
  },
  {
   "cell_type": "markdown",
   "metadata": {},
   "source": [
    "# Useful functions\n",
    "\n",
    "\n",
    "list.append()\n",
    "\n",
    "class\n",
    "collections.defaultdict\n",
    "collections.OrderedDict has a powerfeature popitem - powerful ordered popping\n",
    "\n",
    "csvdict reader returns each row as an OrderedDict\n",
    "\n",
    "namedtuple  .name and .quantity attributes\n",
    "\n",
    "date_time .strptime() .strftime() .isoformat() .now() .utcnow() methods ... attributes day, month, year, ...\n",
    "\n",
    "pytz module via the timezone object"
   ]
  },
  {
   "cell_type": "markdown",
   "metadata": {},
   "source": [
    "# Useful websites\n",
    "\n",
    "https://archive.ics.uci.edu/ml/datasets/Breast+Cancer+Wisconsin+%28Original%29\n",
    "\n",
    "https://matplotlib.org/index.html\n",
    "\n",
    "https://seaborn.pydata.org/index.html\n",
    "\n",
    "https://pandas.pydata.org/pandas-docs/stable/index.html#\n",
    "\n"
   ]
  },
  {
   "cell_type": "code",
   "execution_count": null,
   "metadata": {},
   "outputs": [],
   "source": []
  },
  {
   "cell_type": "markdown",
   "metadata": {},
   "source": [
    "ridership = defaultdict(list)\n",
    "\n",
    "# Iterate over the entries\n",
    "for date, stop, riders in entries:\n",
    "    # Use the stop as the key of ridership and append the riders to its value\n",
    "    ridership[stop].append( riders)\n",
    "    \n",
    "# Print the first 10 items of the ridership dictionary\n",
    "print(list(ridership.items())[:10])"
   ]
  },
  {
   "cell_type": "code",
   "execution_count": 1,
   "metadata": {},
   "outputs": [
    {
     "ename": "NameError",
     "evalue": "name 'ridership_date' is not defined",
     "output_type": "error",
     "traceback": [
      "\u001b[1;31m---------------------------------------------------------------------------\u001b[0m",
      "\u001b[1;31mNameError\u001b[0m                                 Traceback (most recent call last)",
      "\u001b[1;32m<ipython-input-1-d4855ab7e5d7>\u001b[0m in \u001b[0;36m<module>\u001b[1;34m()\u001b[0m\n\u001b[1;32m----> 1\u001b[1;33m \u001b[0mlist\u001b[0m\u001b[1;33m(\u001b[0m\u001b[0mridership_date\u001b[0m\u001b[1;33m.\u001b[0m\u001b[0mkeys\u001b[0m\u001b[1;33m(\u001b[0m\u001b[1;33m)\u001b[0m\u001b[1;33m)\u001b[0m\u001b[1;33m\u001b[0m\u001b[0m\n\u001b[0m",
      "\u001b[1;31mNameError\u001b[0m: name 'ridership_date' is not defined"
     ]
    }
   ],
   "source": [
    "list(ridership_date.keys())\n"
   ]
  },
  {
   "cell_type": "code",
   "execution_count": null,
   "metadata": {
    "scrolled": false
   },
   "outputs": [],
   "source": [
    "import pandas as pd\n",
    "import matplotlib.pyplot as plt\n",
    "%matplotlib inline\n",
    "\n",
    "header_names = ['sample_code_number', 'clump_thickness', 'uniformity_cell_size', 'uniformity_cell_shape', 'marginal_adhesion', 'cell_size', 'bare_nuclei', 'bland_chromatin', 'normal_nucleoli', 'mitosis', 'class']\n",
    "data_df = pd.read_csv('breast-cancer-wisconsin - Copy.csv', header = None, names = header_names)\n",
    "\n",
    "#print(data_df)\n",
    "\n",
    "data_df.plot(subplots=True,figsize = (16,16), kind = 'bar')\n",
    "\"\"\"\n",
    "plt.subplot(1,2,1)\n",
    "data_df['sample_code_number'].plot() \n",
    "plt.subplot(1,2,2)\n",
    "data_df['clump_thickness'].plot() \n",
    "\n",
    "\"\"\"\n",
    "plt.savefig('data_plot.jpg')\n",
    "plt.show()\n"
   ]
  },
  {
   "cell_type": "code",
   "execution_count": 37,
   "metadata": {},
   "outputs": [
    {
     "data": {
      "image/png": "[encoded data removed]",
      "text/plain": [
       "<Figure size 432x288 with 3 Axes>"
      ]
     },
     "metadata": {},
     "output_type": "display_data"
    },
    {
     "name": "stdout",
     "output_type": "stream",
     "text": [
      "The history saving thread hit an unexpected error (OperationalError('disk I/O error',)).History will not be written to the database.\n"
     ]
    }
   ],
   "source": [
    "import seaborn as sns\n",
    "\n",
    "plt.subplot(2,2,1)\n",
    "sns.violinplot(x = 'class', y = 'clump_thickness', data = data_df)\n",
    "\n",
    "plt.subplot(2,2,2)\n",
    "sns.violinplot(x = 'class', y = 'uniformity_cell_size', data = data_df)\n",
    "\n",
    "\n",
    "plt.subplot(2,2,3)\n",
    "plt.hist(data_df['clump_thickness'], bins = 100)\n",
    "plt.savefig('violin_plot.png')\n"
   ]
  },
  {
   "cell_type": "code",
   "execution_count": 45,
   "metadata": {},
   "outputs": [
    {
     "name": "stdout",
     "output_type": "stream",
     "text": [
      "    sample_code_number  clump_thickness  uniformity_cell_size  \\\n",
      "0              1000025                5                     1   \n",
      "1              1002945                5                     4   \n",
      "2              1015425                3                     1   \n",
      "3              1016277                6                     8   \n",
      "4              1017023                4                     1   \n",
      "5              1017122                8                    10   \n",
      "6              1018099                1                     1   \n",
      "7              1018561                2                     1   \n",
      "8              1033078                2                     1   \n",
      "9              1033078                4                     2   \n",
      "10             1035283                1                     1   \n",
      "11             1036172                2                     1   \n",
      "12             1041801                5                     3   \n",
      "13             1043999                1                     1   \n",
      "14             1044572                8                     7   \n",
      "15             1047630                7                     4   \n",
      "16             1048672                4                     1   \n",
      "17             1049815                4                     1   \n",
      "18             1050670               10                     7   \n",
      "19             1050718                6                     1   \n",
      "20             1054590                7                     3   \n",
      "21             1054593               10                     5   \n",
      "22             1056784                3                     1   \n",
      "23             1057013                8                     4   \n",
      "24             1059552                1                     1   \n",
      "25             1065726                5                     2   \n",
      "26             1066373                3                     2   \n",
      "27             1066979                5                     1   \n",
      "28             1067444                2                     1   \n",
      "29             1070935                1                     1   \n",
      "..                 ...              ...                   ...   \n",
      "70             1121919                5                     1   \n",
      "71             1123061                6                    10   \n",
      "72             1124651                1                     3   \n",
      "73             1125035                9                     4   \n",
      "74             1126417               10                     6   \n",
      "75             1131294                1                     1   \n",
      "76             1132347                1                     1   \n",
      "77             1133041                5                     3   \n",
      "78             1133136                3                     1   \n",
      "79             1136142                2                     1   \n",
      "80             1137156                2                     2   \n",
      "81             1143978                4                     1   \n",
      "82             1143978                5                     2   \n",
      "83             1147044                3                     1   \n",
      "84             1147699                3                     5   \n",
      "85             1147748                5                    10   \n",
      "86             1148278                3                     3   \n",
      "87             1148873                3                     6   \n",
      "88             1152331                4                     1   \n",
      "89             1155546                2                     1   \n",
      "90             1156272                1                     1   \n",
      "91             1156948                3                     1   \n",
      "92             1157734                4                     1   \n",
      "93             1158247                1                     1   \n",
      "94             1160476                2                     1   \n",
      "95             1164066                1                     1   \n",
      "96             1165297                2                     1   \n",
      "97             1165790                5                     1   \n",
      "98             1165926                9                     6   \n",
      "99             1166630                7                     5   \n",
      "\n",
      "    uniformity_cell_shape  marginal_adhesion  cell_size bare_nuclei  \\\n",
      "0                       1                  1          2           1   \n",
      "1                       4                  5          7          10   \n",
      "2                       1                  1          2           2   \n",
      "3                       8                  1          3           4   \n",
      "4                       1                  3          2           1   \n",
      "5                      10                  8          7          10   \n",
      "6                       1                  1          2          10   \n",
      "7                       2                  1          2           1   \n",
      "8                       1                  1          2           1   \n",
      "9                       1                  1          2           1   \n",
      "10                      1                  1          1           1   \n",
      "11                      1                  1          2           1   \n",
      "12                      3                  3          2           3   \n",
      "13                      1                  1          2           3   \n",
      "14                      5                 10          7           9   \n",
      "15                      6                  4          6           1   \n",
      "16                      1                  1          2           1   \n",
      "17                      1                  1          2           1   \n",
      "18                      7                  6          4          10   \n",
      "19                      1                  1          2           1   \n",
      "20                      2                 10          5          10   \n",
      "21                      5                  3          6           7   \n",
      "22                      1                  1          2           1   \n",
      "23                      5                  1          2           1   \n",
      "24                      1                  1          2           1   \n",
      "25                      3                  4          2           7   \n",
      "26                      1                  1          1           1   \n",
      "27                      1                  1          2           1   \n",
      "28                      1                  1          2           1   \n",
      "29                      3                  1          2           1   \n",
      "..                    ...                ...        ...         ...   \n",
      "70                      3                  1          2           1   \n",
      "71                      2                  8         10           2   \n",
      "72                      3                  2          2           1   \n",
      "73                      5                 10          6          10   \n",
      "74                      4                  1          3           4   \n",
      "75                      2                  1          2           2   \n",
      "76                      4                  1          2           1   \n",
      "77                      1                  2          2           1   \n",
      "78                      1                  1          2           3   \n",
      "79                      1                  1          3           1   \n",
      "80                      2                  1          1           1   \n",
      "81                      1                  2          2           1   \n",
      "82                      1                  1          2           1   \n",
      "83                      1                  1          2           2   \n",
      "84                      7                  8          8           9   \n",
      "85                      6                  1         10           4   \n",
      "86                      6                  4          5           8   \n",
      "87                      6                  6          5          10   \n",
      "88                      1                  1          2           1   \n",
      "89                      1                  2          3           1   \n",
      "90                      1                  1          2           1   \n",
      "91                      1                  2          2           1   \n",
      "92                      1                  1          2           1   \n",
      "93                      1                  1          2           1   \n",
      "94                      1                  1          2           1   \n",
      "95                      1                  1          2           1   \n",
      "96                      1                  2          2           1   \n",
      "97                      1                  1          2           1   \n",
      "98                      9                  2         10           6   \n",
      "99                      6                 10          5          10   \n",
      "\n",
      "    bland_chromatin  normal_nucleoli  mitosis  class  \n",
      "0                 3                1        1      2  \n",
      "1                 3                2        1      2  \n",
      "2                 3                1        1      2  \n",
      "3                 3                7        1      2  \n",
      "4                 3                1        1      2  \n",
      "5                 9                7        1      4  \n",
      "6                 3                1        1      2  \n",
      "7                 3                1        1      2  \n",
      "8                 1                1        5      2  \n",
      "9                 2                1        1      2  \n",
      "10                3                1        1      2  \n",
      "11                2                1        1      2  \n",
      "12                4                4        1      4  \n",
      "13                3                1        1      2  \n",
      "14                5                5        4      4  \n",
      "15                4                3        1      4  \n",
      "16                2                1        1      2  \n",
      "17                3                1        1      2  \n",
      "18                4                1        2      4  \n",
      "19                3                1        1      2  \n",
      "20                5                4        4      4  \n",
      "21                7               10        1      4  \n",
      "22                2                1        1      2  \n",
      "23                7                3        1      4  \n",
      "24                3                1        1      2  \n",
      "25                3                6        1      4  \n",
      "26                2                1        1      2  \n",
      "27                2                1        1      2  \n",
      "28                2                1        1      2  \n",
      "29                1                1        1      2  \n",
      "..              ...              ...      ...    ...  \n",
      "70                2                1        1      2  \n",
      "71                7                8       10      4  \n",
      "72                7                2        1      2  \n",
      "73                4                8        1      4  \n",
      "74                3                2        3      4  \n",
      "75                4                2        1      2  \n",
      "76                2                1        1      2  \n",
      "77                2                1        1      2  \n",
      "78                3                1        1      2  \n",
      "79                2                1        1      2  \n",
      "80                7                1        1      2  \n",
      "81                2                1        1      2  \n",
      "82                3                1        1      2  \n",
      "83                7                1        1      2  \n",
      "84                7               10        7      4  \n",
      "85                4               10       10      4  \n",
      "86                4                4        1      4  \n",
      "87                6                8        3      4  \n",
      "88                3                1        1      2  \n",
      "89                2                1        1      2  \n",
      "90                3                1        1      2  \n",
      "91                1                1        1      2  \n",
      "92                3                1        1      2  \n",
      "93                2                1        1      2  \n",
      "94                3                1        1      2  \n",
      "95                3                1        1      2  \n",
      "96                1                1        1      2  \n",
      "97                3                1        1      2  \n",
      "98                2                9       10      4  \n",
      "99                7                9        4      4  \n",
      "\n",
      "[100 rows x 11 columns]\n"
     ]
    }
   ],
   "source": [
    "data_df[data_df.cell_size.isnull()]\n",
    "\n",
    "data_df[~data_df.bare_nuclei.isin([1,2,3,4,5,6,7,8,9,10])]\n",
    "\n",
    "data_prep_df=data_df.replace('?', None)\n",
    "\n",
    "print(data_prep_df.head(100))"
   ]
  }
 ],
 "metadata": {
  "kernelspec": {
   "display_name": "Python 3",
   "language": "python",
   "name": "python3"
  },
  "language_info": {
   "codemirror_mode": {
    "name": "ipython",
    "version": 3
   },
   "file_extension": ".py",
   "mimetype": "text/x-python",
   "name": "python",
   "nbconvert_exporter": "python",
   "pygments_lexer": "ipython3",
   "version": "3.6.5"
  }
 },
 "nbformat": 4,
 "nbformat_minor": 2
}
