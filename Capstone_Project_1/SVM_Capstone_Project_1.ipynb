{
 "cells": [
  {
   "cell_type": "code",
   "execution_count": 1,
   "metadata": {},
   "outputs": [
    {
     "name": "stdout",
     "output_type": "stream",
     "text": [
      "    bare_nuclei  class\n",
      "23            ?      4\n",
      "40            ?      2\n",
      "139           ?      2\n",
      "145           ?      2\n",
      "158           ?      2\n",
      "164           ?      2\n",
      "235           ?      2\n",
      "249           ?      2\n",
      "275           ?      2\n",
      "292           ?      4\n",
      "294           ?      2\n",
      "297           ?      2\n",
      "315           ?      2\n",
      "321           ?      2\n",
      "411           ?      2\n",
      "617           ?      2\n",
      "Percentage of missing bare_nuclei in benign tumors: 3.06%\n",
      "Percentage of missing bare_nuclei in malignant tumors: 0.83%\n"
     ]
    }
   ],
   "source": [
    "import pandas as pd\n",
    "import matplotlib.pyplot as plt\n",
    "import seaborn as sns\n",
    "%matplotlib inline\n",
    "import numpy as np\n",
    "\n",
    "# Read the CSV into a dataframe\n",
    "\n",
    "header_names = ['sample_code_number', 'clump_thickness', 'uniformity_cell_size', 'uniformity_cell_shape', 'marginal_adhesion', 'cell_size', 'bare_nuclei', 'bland_chromatin', 'normal_nucleoli', 'mitosis', 'class']\n",
    "data_df = pd.read_csv('breast-cancer-wisconsin - Copy.csv', header = None, names = header_names)\n",
    "\n",
    "# Looking back at lecture, it is also possible to use regular expression to determine which entries are integers. Give this a try later.\n",
    "indices_with_unexpected_values_in_bare_nuclei = ~data_df.bare_nuclei.isin(['1','2','3','4','5','6','7','8','9','10'])\n",
    "\n",
    "rows_with_unexpected_values_in_bare_nuclei = data_df[~data_df.bare_nuclei.isin(['1','2','3','4','5','6','7','8','9','10'])]\n",
    "\n",
    "print(rows_with_unexpected_values_in_bare_nuclei[['bare_nuclei', 'class']])\n",
    "missing_by_tumor_class = rows_with_unexpected_values_in_bare_nuclei[['bare_nuclei', 'class']].groupby('class').count()\n",
    "population_by_tumor_class = data_df['class'].value_counts()\n",
    "\n",
    "percentage_missing_in_benign = 100*missing_by_tumor_class.loc[2,'bare_nuclei']/population_by_tumor_class[2]\n",
    "percentage_missing_in_malignant = 100*missing_by_tumor_class.loc[4,'bare_nuclei']/population_by_tumor_class[4]\n",
    "\n",
    "print(\"Percentage of missing bare_nuclei in benign tumors: {0:2.2f}%\".format( percentage_missing_in_benign))\n",
    "print(\"Percentage of missing bare_nuclei in malignant tumors: {0:2.2f}%\".format( percentage_missing_in_malignant))\n",
    "# Class: (2 for benign, 4 for malignant)\n",
    "\n",
    "data_df = data_df[~indices_with_unexpected_values_in_bare_nuclei]\n",
    "\n",
    "data_df.bare_nuclei = data_df.bare_nuclei.astype('int64')\n",
    "\n"
   ]
  },
  {
   "cell_type": "code",
   "execution_count": 9,
   "metadata": {},
   "outputs": [],
   "source": [
    "from sklearn.svm import SVC\n",
    "from sklearn.model_selection import GridSearchCV\n",
    "from sklearn.model_selection import train_test_split"
   ]
  },
  {
   "cell_type": "code",
   "execution_count": null,
   "metadata": {},
   "outputs": [],
   "source": []
  },
  {
   "cell_type": "code",
   "execution_count": 8,
   "metadata": {},
   "outputs": [],
   "source": [
    "X = data_df.drop(['class'], axis=1)\n",
    "#X.head()\n",
    "y = data_df['class']\n",
    "#y"
   ]
  },
  {
   "cell_type": "code",
   "execution_count": 10,
   "metadata": {},
   "outputs": [],
   "source": [
    "\n",
    "\n",
    "# Split the data into a training and test set.\n",
    "X_train, X_test, y_train, ytest = train_test_split(X, y, test_size = 0.25,  random_state=42)"
   ]
  },
  {
   "cell_type": "code",
   "execution_count": null,
   "metadata": {},
   "outputs": [],
   "source": [
    "\n",
    "\n",
    "\n",
    "clf = SVC(kernel='linear')\n",
    "\n",
    "parameters = {'C': [0.01, 1, 100], 'gamma': [0.001, 0.01, 1]}\n",
    "grid = GridSearchCV(estimator=clf, param_grid=parameters, cv=5)\n",
    "\n",
    "grid.fit(X_train, y_train)\n",
    "print(grid.best_params_)\n",
    "print(grid.best_score_)\n",
    "print(grid.scorer_)\n",
    "print(grid.best_estimator_)\n",
    "\n",
    "print(grid.score(X_test, ytest))"
   ]
  },
  {
   "cell_type": "code",
   "execution_count": null,
   "metadata": {},
   "outputs": [],
   "source": []
  },
  {
   "cell_type": "code",
   "execution_count": null,
   "metadata": {},
   "outputs": [],
   "source": []
  },
  {
   "cell_type": "code",
   "execution_count": null,
   "metadata": {},
   "outputs": [],
   "source": []
  },
  {
   "cell_type": "code",
   "execution_count": null,
   "metadata": {},
   "outputs": [],
   "source": []
  },
  {
   "cell_type": "code",
   "execution_count": null,
   "metadata": {},
   "outputs": [],
   "source": []
  }
 ],
 "metadata": {
  "kernelspec": {
   "display_name": "Python 3",
   "language": "python",
   "name": "python3"
  },
  "language_info": {
   "codemirror_mode": {
    "name": "ipython",
    "version": 3
   },
   "file_extension": ".py",
   "mimetype": "text/x-python",
   "name": "python",
   "nbconvert_exporter": "python",
   "pygments_lexer": "ipython3",
   "version": "3.6.5"
  }
 },
 "nbformat": 4,
 "nbformat_minor": 2
}
